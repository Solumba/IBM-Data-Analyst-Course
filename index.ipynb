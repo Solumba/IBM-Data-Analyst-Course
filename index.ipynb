{
 "cells": [
  {
   "cell_type": "code",
   "execution_count": 31,
   "metadata": {},
   "outputs": [],
   "source": [
    "import pandas as pd\n",
    "import numpy as np\n"
   ]
  },
  {
   "cell_type": "code",
   "execution_count": 32,
   "metadata": {},
   "outputs": [
    {
     "name": "stdout",
     "output_type": "stream",
     "text": [
      "        symboling  wheel-base      length       width      height  \\\n",
      "count  205.000000  205.000000  205.000000  205.000000  205.000000   \n",
      "mean     0.834146   98.756585  174.049268   65.907805   53.724878   \n",
      "std      1.245307    6.021776   12.337289    2.145204    2.443522   \n",
      "min     -2.000000   86.600000  141.100000   60.300000   47.800000   \n",
      "25%      0.000000   94.500000  166.300000   64.100000   52.000000   \n",
      "50%      1.000000   97.000000  173.200000   65.500000   54.100000   \n",
      "75%      2.000000  102.400000  183.100000   66.900000   55.500000   \n",
      "max      3.000000  120.900000  208.100000   72.300000   59.800000   \n",
      "\n",
      "       curb-weight  engine-size  compression-ratio    city-mpg  highway-mpg  \n",
      "count   205.000000   205.000000         205.000000  205.000000   205.000000  \n",
      "mean   2555.565854   126.907317          10.142537   25.219512    30.751220  \n",
      "std     520.680204    41.642693           3.972040    6.542142     6.886443  \n",
      "min    1488.000000    61.000000           7.000000   13.000000    16.000000  \n",
      "25%    2145.000000    97.000000           8.600000   19.000000    25.000000  \n",
      "50%    2414.000000   120.000000           9.000000   24.000000    30.000000  \n",
      "75%    2935.000000   141.000000           9.400000   30.000000    34.000000  \n",
      "max    4066.000000   326.000000          23.000000   49.000000    54.000000  \n"
     ]
    },
    {
     "data": {
      "text/plain": [
       "symboling              int64\n",
       "normalized-losses     object\n",
       "make                  object\n",
       "fuel-type             object\n",
       "aspiration            object\n",
       "num-of-doors          object\n",
       "body-style            object\n",
       "drive-wheels          object\n",
       "engine-location       object\n",
       "wheel-base           float64\n",
       "length               float64\n",
       "width                float64\n",
       "height               float64\n",
       "curb-weight            int64\n",
       "engine-type           object\n",
       "num-of-cylinders      object\n",
       "engine-size            int64\n",
       "fuel-system           object\n",
       "bore                  object\n",
       "stroke                object\n",
       "compression-ratio    float64\n",
       "horsepower            object\n",
       "peak-rpm              object\n",
       "city-mpg               int64\n",
       "highway-mpg            int64\n",
       "price                 object\n",
       "dtype: object"
      ]
     },
     "execution_count": 32,
     "metadata": {},
     "output_type": "execute_result"
    }
   ],
   "source": [
    "file_url = (\n",
    "    \"https://archive.ics.uci.edu/ml/machine-learning-databases/autos/imports-85.data\"\n",
    ")\n",
    "df = pd.read_csv(file_url, header=None)\n",
    "\n",
    "path = \"C:\\\\Users\\\\Solomon\\\\Desktop\\\\IBM Data Analyst Course\\\\car_dataset.csv\"\n",
    "\n",
    "# define headers\n",
    "headers = [\n",
    "    \"symboling\",\n",
    "    \"normalized-losses\",\n",
    "    \"make\",\n",
    "    \"fuel-type\",\n",
    "    \"aspiration\",\n",
    "    \"num-of-doors\",\n",
    "    \"body-style\",\n",
    "    \"drive-wheels\",\n",
    "    \"engine-location\",\n",
    "    \"wheel-base\",\n",
    "    \"length\",\n",
    "    \"width\",\n",
    "    \"height\",\n",
    "    \"curb-weight\",\n",
    "    \"engine-type\",\n",
    "    \"num-of-cylinders\",\n",
    "    \"engine-size\",\n",
    "    \"fuel-system\",\n",
    "    \"bore\",\n",
    "    \"stroke\",\n",
    "    \"compression-ratio\",\n",
    "    \"horsepower\",\n",
    "    \"peak-rpm\",\n",
    "    \"city-mpg\",\n",
    "    \"highway-mpg\",\n",
    "    \"price\",\n",
    "]\n",
    "\n",
    "# assigning headers\n",
    "df.columns = headers\n",
    "\n",
    "# save dataset as csv\n",
    "df.to_csv(path)\n",
    "\n",
    "df.head()\n",
    "\n",
    "print(df.describe())\n",
    "\n",
    "df.dtypes\n",
    "\n",
    "\n"
   ]
  },
  {
   "cell_type": "code",
   "execution_count": 33,
   "metadata": {},
   "outputs": [],
   "source": [
    "# replace \"?\" with NaN values\n",
    "df1 = df.replace(\"?\", np.NaN)\n"
   ]
  },
  {
   "cell_type": "code",
   "execution_count": null,
   "metadata": {},
   "outputs": [],
   "source": [
    "#create database connection\n",
    "\n",
    "from dmodule import connect\n",
    "#create connection object\n",
    "connection = connect('dbname', 'username', 'password')\n",
    "\n",
    "#create cursor object\n",
    "cursor = connection.cursor()\n",
    "\n",
    "#run queries \n",
    "cursor.execute('select * from mytable')\n",
    "results = cursor.fetchall()\n",
    "\n",
    "#free resources\n",
    "cursor.close()\n",
    "connection.close()"
   ]
  }
 ],
 "metadata": {
  "kernelspec": {
   "display_name": "Python 3",
   "language": "python",
   "name": "python3"
  },
  "language_info": {
   "codemirror_mode": {
    "name": "ipython",
    "version": 3
   },
   "file_extension": ".py",
   "mimetype": "text/x-python",
   "name": "python",
   "nbconvert_exporter": "python",
   "pygments_lexer": "ipython3",
   "version": "3.10.11"
  }
 },
 "nbformat": 4,
 "nbformat_minor": 2
}
